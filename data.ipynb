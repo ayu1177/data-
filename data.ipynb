{
  "nbformat": 4,
  "nbformat_minor": 0,
  "metadata": {
    "colab": {
      "provenance": []
    },
    "kernelspec": {
      "name": "python3",
      "display_name": "Python 3"
    },
    "language_info": {
      "name": "python"
    }
  },
  "cells": [
    {
      "cell_type": "markdown",
      "source": [
        "Data Toolkit"
      ],
      "metadata": {
        "id": "5jhmoWS026RH"
      }
    },
    {
      "cell_type": "markdown",
      "source": [
        "Theory"
      ],
      "metadata": {
        "id": "LbeQlmcW27LH"
      }
    },
    {
      "cell_type": "markdown",
      "source": [
        "1.What is NumPy, and why is it widely used in Python?\n"
      ],
      "metadata": {
        "id": "gVg-_7Ga3Bi-"
      }
    },
    {
      "cell_type": "markdown",
      "source": [
        "NumPy, short for Numerical Python, is a fundamental Python library for numerical computing. It provides support for large, multi-dimensional arrays and matrices, along with a collection of high-level mathematical functions to operate on these arrays efficiently."
      ],
      "metadata": {
        "id": "cOhF-GUu3Dmu"
      }
    },
    {
      "cell_type": "markdown",
      "source": [
        "2.How does broadcasting work in NumPy?"
      ],
      "metadata": {
        "id": "sRMVtqRo3Huo"
      }
    },
    {
      "cell_type": "markdown",
      "source": [
        "Broadcasting in NumPy is a mechanism that allows arithmetic operations to be performed on arrays of different shapes and sizes. It enables element-wise operations without requiring explicit loops or making unnecessary copies of data, which enhances performance and memory efficiency."
      ],
      "metadata": {
        "id": "qmQUecOa3LNe"
      }
    },
    {
      "cell_type": "markdown",
      "source": [
        "3.What is a Pandas DataFrame?\n"
      ],
      "metadata": {
        "id": "I-yOONp_3PKW"
      }
    },
    {
      "cell_type": "markdown",
      "source": [
        "A Pandas DataFrame is a two-dimensional, labeled data structure in the Pandas library for Python. It is designed to handle tabular data, similar to a spreadsheet, a database table, or a SQL table"
      ],
      "metadata": {
        "id": "ZFWbboh33Yhn"
      }
    },
    {
      "cell_type": "markdown",
      "source": [
        "4.Explain the use of the groupby() method in Pandas?\n"
      ],
      "metadata": {
        "id": "DkwB7fb-3bS_"
      }
    },
    {
      "cell_type": "markdown",
      "source": [
        "The groupby() method in Pandas is a powerful function used for splitting a DataFrame into groups based on one or more criteria, applying a function to each group independently, and then combining the results into a new data structure. This process is often referred to as \"split-apply-combine\""
      ],
      "metadata": {
        "id": "S58lt11z3h3e"
      }
    },
    {
      "cell_type": "markdown",
      "source": [
        "5.Why is Seaborn preferred for statistical visualizations?\n"
      ],
      "metadata": {
        "id": "DfrIitk13jw2"
      }
    },
    {
      "cell_type": "markdown",
      "source": [
        "Seaborn is preferred for statistical visualizations due to its specialized features and ease of use, particularly when working with statistical data:\n",
        "\n",
        "High-Level Interface for Statistical Graphics:\n",
        "\n",
        "Seaborn is built on Matplotlib but offers a higher-level, more intuitive interface specifically designed for statistical plotting. This simplifies the creation of complex statistical visualizations like regression plots, distribution plots, and categorical plots with fewer lines of code.\n",
        "\n",
        "Integrated Statistical Functions:\n",
        "\n",
        "Seaborn incorporates statistical estimation and aggregation directly into its plotting functions. For instance, sns.barplot() automatically calculates and displays confidence intervals, which would require more manual calculations and plotting in Matplotlib."
      ],
      "metadata": {
        "id": "Sz2_M7bw3njW"
      }
    },
    {
      "cell_type": "markdown",
      "source": [
        "6.What are the differences between NumPy arrays and Python lists?\n"
      ],
      "metadata": {
        "id": "YzkTTNks3xRW"
      }
    },
    {
      "cell_type": "markdown",
      "source": [
        "NumPy arrays and Python lists are both used to store collections of data, but they differ significantly in their characteristics and intended use cases.\n",
        "\n",
        "Key Differences:\n",
        "\n",
        "Data Type Homogeneity:\n",
        "\n",
        "NumPy arrays are designed to store homogeneous data, meaning all elements within an array must be of the same data type (e.g., all integers, all floats). Python lists, conversely, are heterogeneous and can store elements of different data types within the same list (e.g., integers, strings, and other objects).\n",
        "\n",
        "Performance and Memory Efficiency:\n",
        "\n",
        "NumPy arrays offer significantly better performance and memory efficiency, especially for large datasets and numerical computations. This is due to their fixed size and contiguous memory storage, which allows for optimized, vectorized operations. Python lists, being more flexible and dynamic, can be less efficient for numerical tasks with large amounts of data."
      ],
      "metadata": {
        "id": "jEsfBAmt30Y-"
      }
    },
    {
      "cell_type": "markdown",
      "source": [
        "7.What is a heatmap, and when should it be used?\n"
      ],
      "metadata": {
        "id": "AtILhP9m37_O"
      }
    },
    {
      "cell_type": "markdown",
      "source": [
        "A heatmap is a visual representation of data where values are depicted using different colors, typically on a grid or map. It's used to quickly identify patterns, trends, and areas of high or low concentration within a dataset. Heatmaps are valuable for understanding user behavior on websites, visualizing geographical data, and analyzing various other datasets across different fields."
      ],
      "metadata": {
        "id": "MHqjXzGb3_pO"
      }
    },
    {
      "cell_type": "markdown",
      "source": [
        "8.What does the term “vectorized operation” mean in NumPy?"
      ],
      "metadata": {
        "id": "ezFwscJt4CWm"
      }
    },
    {
      "cell_type": "markdown",
      "source": [
        "In NumPy, a \"vectorized operation\" refers to the ability to perform operations on entire arrays (or parts of arrays) at once, without needing to write explicit Python loops to iterate through individual elements."
      ],
      "metadata": {
        "id": "ggHscqtv4GMW"
      }
    },
    {
      "cell_type": "markdown",
      "source": [
        "9.How does Matplotlib differ from Plotly?"
      ],
      "metadata": {
        "id": "IuBIsFm64J3O"
      }
    },
    {
      "cell_type": "markdown",
      "source": [
        "Matplotlib and Plotly are both popular Python libraries for data visualization, but they differ significantly in their primary focus and capabilities:\n",
        "\n",
        "Interactivity:\n",
        "\n",
        "Plotly excels at creating interactive, web-based visualizations. Its charts allow for zooming, panning, hovering for details, and toggling data series, making them ideal for dynamic exploration and dashboards. Matplotlib, while capable of generating interactive elements, primarily focuses on static, publication-quality figures.\n",
        "\n",
        "Output Format:\n",
        "\n",
        "Matplotlib is best suited for generating static images in various formats (e.g., PNG, PDF, SVG) suitable for reports, papers, and presentations. Plotly, on the other hand, is designed to produce interactive plots that can be embedded in web applications, shared online, or viewed in a web browser."
      ],
      "metadata": {
        "id": "uGcCmbWx4WTe"
      }
    },
    {
      "cell_type": "markdown",
      "source": [
        "10.What is the significance of hierarchical indexing in Pandas?\n"
      ],
      "metadata": {
        "id": "3dmeMmef4dL-"
      }
    },
    {
      "cell_type": "markdown",
      "source": [
        "Hierarchical indexing, also known as MultiIndex in pandas, is a significant feature that allows for the representation and manipulation of higher-dimensional data within one-dimensional Series and two-dimensional DataFrame objects. Its significance stems from several key advantages:\n",
        "\n",
        "Representing Complex Relationships:\n",
        "\n",
        "Hierarchical indexing allows you to define multiple levels of indexing, establishing parent-child relationships between different categories of data. This is crucial for datasets with inherent nested structures, where a single index is insufficient to capture the full context of the data.\n",
        "\n",
        "Efficient Data Organization and Access:\n",
        "\n",
        "By structuring data hierarchically, pandas enables more intuitive and efficient methods for selecting, slicing, and subsetting data. You can easily access data based on combinations of index levels, making complex queries more straightforward and performant."
      ],
      "metadata": {
        "id": "do4HaGZ74g-m"
      }
    },
    {
      "cell_type": "markdown",
      "source": [
        "11.What is the role of Seaborn’s pairplot() function?\n"
      ],
      "metadata": {
        "id": "G-JZn-Y94nyG"
      }
    },
    {
      "cell_type": "markdown",
      "source": [
        "Seaborn's pairplot() function is a powerful tool for visualizing pairwise relationships in a dataset during exploratory data analysis (EDA). Its primary role is to create a grid of plots, providing a comprehensive overview of how different variables within a dataset relate to each other.\n",
        "\n",
        "Here's a breakdown of its key functions:\n",
        "\n",
        "Visualizing Pairwise Bivariate Distributions:\n",
        "\n",
        "It generates a matrix of scatter plots for every possible combination of two numeric variables in the dataset. This allows for quick identification of correlations, trends, and patterns between pairs of features.\n",
        "\n",
        "Displaying Univariate Distributions:\n",
        "\n",
        "The diagonal plots within the pairplot() grid display the univariate distribution of each individual variable. By default, these are histograms, but they can be customized to show other representations like Kernel Density Estimates (KDEs). This helps in understanding the distribution and spread of each feature independently."
      ],
      "metadata": {
        "id": "XS72quqP4rbe"
      }
    },
    {
      "cell_type": "markdown",
      "source": [
        "12.What is the purpose of the describe() function in Pandas?"
      ],
      "metadata": {
        "id": "HuU39eEO4xqW"
      }
    },
    {
      "cell_type": "markdown",
      "source": [
        "The describe() function in Pandas is used to generate descriptive statistics of a DataFrame or Series. Its primary purpose is to provide a quick summary of the central tendency, dispersion, and shape of the distribution of a dataset."
      ],
      "metadata": {
        "id": "wlT0uiG044AG"
      }
    },
    {
      "cell_type": "markdown",
      "source": [
        "13.Why is handling missing data important in Pandas?\n"
      ],
      "metadata": {
        "id": "3JUAK4mm47s-"
      }
    },
    {
      "cell_type": "markdown",
      "source": [
        "Handling missing data in Pandas is crucial for several reasons, primarily to ensure the accuracy, reliability, and usability of your data for analysis and modeling:\n",
        "\n",
        "Impact on Analysis and Models:\n",
        "\n",
        "Many statistical analyses and machine learning algorithms cannot directly handle missing values (often represented as NaN in Pandas). Ignoring them can lead to errors, skewed results, and potentially biased or inaccurate models.\n",
        "\n",
        "Maintaining Data Integrity:\n",
        "\n",
        "Missing values can distort the true distribution of your data, leading to incorrect statistical inferences. Properly addressing them helps maintain the integrity of your dataset and ensures that any conclusions drawn are based on a more complete and representative picture."
      ],
      "metadata": {
        "id": "naH1AKRY5Al-"
      }
    },
    {
      "cell_type": "markdown",
      "source": [
        "14.What are the benefits of using Plotly for data visualization?"
      ],
      "metadata": {
        "id": "oBPyhzUi5Fsn"
      }
    },
    {
      "cell_type": "markdown",
      "source": [
        "Plotly offers several benefits for data visualization, making it a popular choice for creating interactive and informative charts:\n",
        "\n",
        "Interactivity:\n",
        "\n",
        "Plotly's core strength lies in its built-in interactivity. Charts automatically include features like zooming, panning, hovering for detailed information (tooltips), and clickable legends, enabling users to explore data dynamically and gain deeper insights.\n",
        "\n",
        "Wide Range of Chart Types:\n",
        "\n",
        "It supports a comprehensive array of visualizations, including common types like bar charts, line graphs, scatter plots, and histograms, as well as more complex options like 3D plots, heatmaps, contour plots, and geographic maps."
      ],
      "metadata": {
        "id": "Vh5QuXyi5KeY"
      }
    },
    {
      "cell_type": "markdown",
      "source": [
        "15.How does NumPy handle multidimensional arrays?\n"
      ],
      "metadata": {
        "id": "LAWVbjaO5Pt2"
      }
    },
    {
      "cell_type": "markdown",
      "source": [
        "NumPy handles multidimensional arrays primarily through its core object, the ndarray (N-dimensional array). This object represents a homogeneous multidimensional array of fixed-size items.\n",
        "\n",
        "Here's how NumPy manages these arrays:\n",
        "\n",
        "Homogeneous Data Type:\n",
        "\n",
        "All elements within a single ndarray must be of the same data type (e.g., all integers, all floats). This homogeneity allows for efficient storage and optimized operations.\n",
        "\n",
        "Memory Layout:\n",
        "\n",
        "While conceptually multidimensional, the data of a NumPy array is actually stored contiguously in memory as a single, flattened, one-dimensional array. The multidimensional structure (shape) and the number of dimensions (axes) are used to interpret this underlying 1D data and provide a convenient way to access elements."
      ],
      "metadata": {
        "id": "dj9FMv8e5S-e"
      }
    },
    {
      "cell_type": "markdown",
      "source": [
        "16.What is the role of Bokeh in data visualization?"
      ],
      "metadata": {
        "id": "cVsQjZbx5aim"
      }
    },
    {
      "cell_type": "markdown",
      "source": [
        "Bokeh's role in data visualization is centered on providing a Python library for creating interactive, web-based visualizations. It primarily focuses on generating high-performance, interactive charts and plots that can be rendered in modern web browsers.\n",
        "\n",
        "Key aspects of Bokeh's role include:\n",
        "\n",
        "Interactive Visualizations:\n",
        "\n",
        "Bokeh excels at creating dynamic and interactive plots, allowing users to zoom, pan, select data points, and interact with widgets like sliders and dropdowns to explore data more deeply.\n",
        "\n",
        "Web-Based Output:\n",
        "\n",
        "Unlike some other Python visualization libraries that produce static images, Bokeh generates visualizations in HTML and JavaScript (BokehJS), making them suitable for web applications, dashboards, and standalone HTML documents."
      ],
      "metadata": {
        "id": "gSQg5EsD5eJW"
      }
    },
    {
      "cell_type": "markdown",
      "source": [
        "17.Explain the difference between apply() and map() in Pandas."
      ],
      "metadata": {
        "id": "gkzDLkLm5lxn"
      }
    },
    {
      "cell_type": "markdown",
      "source": [
        "In Pandas, both map() and apply() are used to perform operations on data, but they differ in their scope, flexibility, and typical use cases:\n",
        "\n",
        "1. Scope:\n",
        "\n",
        "map():\n",
        "\n",
        "Exclusively defined and used on Pandas Series. It applies a function, dictionary, or Series to each element of a Series.\n",
        "\n",
        "apply():\n",
        "\n",
        "Can be used on both Pandas Series and DataFrames.\n",
        "When used on a Series, it operates element-wise, similar to map().\n",
        "When used on a DataFrame, it can apply a function along either rows (axis=1) or columns (axis=0)."
      ],
      "metadata": {
        "id": "-Y6zTjzh5qC-"
      }
    },
    {
      "cell_type": "markdown",
      "source": [
        "18.What are some advanced features of NumPy?\n"
      ],
      "metadata": {
        "id": "bqlMfZEC5x7u"
      }
    },
    {
      "cell_type": "markdown",
      "source": [
        "NumPy offers several advanced features that enhance its capabilities for numerical computing and data manipulation:\n",
        "\n",
        "Advanced Indexing and Slicing:\n",
        "\n",
        "Beyond basic integer and slice indexing, NumPy allows for \"fancy indexing\" using arrays of integers or booleans to select non-contiguous or specific elements, and \"masked arrays\" for handling missing or invalid data.\n",
        "\n",
        "Broadcasting:\n",
        "\n",
        "This powerful mechanism enables arithmetic operations on arrays with different shapes and sizes by automatically \"broadcasting\" the smaller array's dimensions to match the larger one, eliminating the need for explicit loops and improving performance."
      ],
      "metadata": {
        "id": "EdtFGfZM544-"
      }
    },
    {
      "cell_type": "markdown",
      "source": [
        "19.How does Pandas simplify time series analysis?\n"
      ],
      "metadata": {
        "id": "4bvm5fdr5_lG"
      }
    },
    {
      "cell_type": "markdown",
      "source": [
        "Pandas simplifies time series analysis through its specialized data structures and functions designed for handling time-indexed data.\n",
        "\n",
        "Key Simplifications:\n",
        "\n",
        "DatetimeIndex and Timestamp:\n",
        "\n",
        "Pandas introduces the DatetimeIndex for Series and DataFrames, allowing intuitive time-based indexing and selection using dates and times. The Timestamp object represents a single point in time, building upon Python's datetime module and NumPy's datetime64.\n",
        "\n",
        "Easy Data Loading and Conversion:\n",
        "\n",
        "Pandas provides functions like pd.to_datetime() to easily convert various date/time formats in your data into Timestamp objects, making it straightforward to prepare data for time series analysis"
      ],
      "metadata": {
        "id": "wAP-Y51G6DWu"
      }
    },
    {
      "cell_type": "markdown",
      "source": [
        "20.What is the role of a pivot table in Pandas?\n"
      ],
      "metadata": {
        "id": "Vj_eO0_w6J9-"
      }
    },
    {
      "cell_type": "markdown",
      "source": [
        "The pivot function in Pandas is a method used to reshape data by transforming rows into columns. The Pandas pivot function comes into play when there's a need to rearrange data from a “long” format to a “wide” format."
      ],
      "metadata": {
        "id": "0_oGnl8P6OOW"
      }
    },
    {
      "cell_type": "markdown",
      "source": [
        "21.Why is NumPy’s array slicing faster than Python’s list slicing?\n"
      ],
      "metadata": {
        "id": "shYktHVq6Sal"
      }
    },
    {
      "cell_type": "markdown",
      "source": [
        "NumPy's array slicing is significantly faster than Python's list slicing primarily due to the fundamental differences in how they handle memory and data types:\n",
        "\n",
        "Contiguous Memory Allocation:\n",
        "\n",
        "NumPy arrays store elements in contiguous blocks of memory. This allows for highly optimized, C-level operations, as the processor can efficiently access consecutive elements. Python lists, on the other hand, store references to objects that can be scattered throughout memory, requiring more complex memory access patterns.\n",
        "\n",
        "Homogeneous Data Types:\n",
        "\n",
        "NumPy arrays are designed to hold elements of a single, uniform data type (e.g., all integers, all floats). This homogeneity eliminates the need for type-checking during operations and allows for a more compact memory layout, further enhancing performance. Python lists can store elements of different data types, adding overhead for managing various object types."
      ],
      "metadata": {
        "id": "rKiFPLkK6Tf9"
      }
    },
    {
      "cell_type": "markdown",
      "source": [
        "22.What are some common use cases for Seaborn??"
      ],
      "metadata": {
        "id": "lY-2SwiI6dp9"
      }
    },
    {
      "cell_type": "markdown",
      "source": [
        "Seaborn, a Python data visualization library built on top of Matplotlib, is widely used for creating informative and attractive statistical graphics. It excels in exploratory data analysis (EDA), statistical analysis, and machine learning workflows, offering functions for visualizing relationships between variables, distributions, and model performance."
      ],
      "metadata": {
        "id": "N2V4zuRg6iwd"
      }
    },
    {
      "cell_type": "markdown",
      "source": [
        "PRACTICAL"
      ],
      "metadata": {
        "id": "O-PHA6kY2_3f"
      }
    },
    {
      "cell_type": "markdown",
      "source": [
        "1.How do you create a 2D NumPy array and calculate the sum of each row?"
      ],
      "metadata": {
        "id": "EPEQxtFq6o6u"
      }
    },
    {
      "cell_type": "code",
      "source": [
        "import numpy as np\n",
        "\n",
        "my_2d_array = np.array([[1, 2, 3],\n",
        "                        [4, 5, 6],\n",
        "                        [7, 8, 9]])"
      ],
      "metadata": {
        "id": "jKxasRRC6unG"
      },
      "execution_count": 4,
      "outputs": []
    },
    {
      "cell_type": "markdown",
      "source": [
        "2.Write a Pandas script to find the mean of a specific column in a DataFrame."
      ],
      "metadata": {
        "id": "XG1CD1qc66QN"
      }
    },
    {
      "cell_type": "code",
      "source": [
        "import pandas as pd\n",
        "data = {'Name': ['Ale', 'dolby', 'Charlie', 'David'],\n",
        "        'Age': [25, 30, 22, 28],\n",
        "        'Score': [85, 92, 78, 95]}\n",
        "df = pd.DataFrame(data)"
      ],
      "metadata": {
        "id": "PSZba9qV8Vpg"
      },
      "execution_count": 9,
      "outputs": []
    },
    {
      "cell_type": "markdown",
      "source": [
        "3.Create a scatter plot using Matplotlib."
      ],
      "metadata": {
        "id": "DvK2KxCW8nHl"
      }
    },
    {
      "cell_type": "code",
      "source": [
        "import matplotlib.pyplot as plt\n",
        "import numpy as np\n",
        "\n",
        "# Generate some sample data\n",
        "np.random.seed(42) # for reproducibility\n",
        "x = np.random.rand(50) * 10\n",
        "y = np.random.rand(50) * 10 + x / 2 # Adding some correlation\n",
        "\n",
        "# Create the scatter plot\n",
        "plt.scatter(x, y)\n",
        "\n",
        "# Add labels and a title\n",
        "plt.xlabel(\"X-axis Label\")\n",
        "plt.ylabel(\"Y-axis Label\")\n",
        "plt.title(\"Sample Scatter Plot\")\n",
        "\n",
        "# Display the plot\n",
        "plt.show()"
      ],
      "metadata": {
        "colab": {
          "base_uri": "https://localhost:8080/",
          "height": 472
        },
        "id": "qldtOkkn8tLu",
        "outputId": "ea52db69-61df-4d77-e1bf-0d59ac25ba97"
      },
      "execution_count": 10,
      "outputs": [
        {
          "output_type": "display_data",
          "data": {
            "text/plain": [
              "<Figure size 640x480 with 1 Axes>"
            ],
            "image/png": "[encoded data removed]"
          },
          "metadata": {}
        }
      ]
    },
    {
      "cell_type": "markdown",
      "source": [
        "4.How do you calculate the correlation matrix using Seaborn and visualize it with a heatmap?"
      ],
      "metadata": {
        "id": "-eY3ANQo81AN"
      }
    },
    {
      "cell_type": "code",
      "source": [
        "    # Example: Create a sample DataFrame\n",
        "    data = {'A': [10, 20, 30, 40, 50],\n",
        "            'B': [5, 15, 25, 35, 45],\n",
        "            'C': [2, 4, 6, 8, 10],\n",
        "            'D': [50, 40, 30, 20, 10]}\n",
        "    df = pd.DataFrame(data)"
      ],
      "metadata": {
        "id": "rrM8Ehj986m1"
      },
      "execution_count": 12,
      "outputs": []
    },
    {
      "cell_type": "markdown",
      "source": [
        "5.Generate a bar plot using Plotly."
      ],
      "metadata": {
        "id": "iLMdE78l9B8l"
      }
    },
    {
      "cell_type": "code",
      "source": [
        "import plotly.express as px\n",
        "import pandas as pd\n",
        "\n",
        "# Sample Data\n",
        "data = {'Category': ['A', 'B', 'C', 'D'],\n",
        "        'Value': [10, 25, 15, 30]}\n",
        "df = pd.DataFrame(data)\n",
        "\n",
        "# Create the bar plot\n",
        "fig = px.bar(df, x='Category', y='Value', title='Sample Bar Plot with Plotly Express')\n",
        "\n",
        "# Display the plot\n",
        "fig.show()"
      ],
      "metadata": {
        "colab": {
          "base_uri": "https://localhost:8080/",
          "height": 542
        },
        "id": "1R9Scw_Y9FZd",
        "outputId": "7aa82bb4-c547-496e-a543-d36607fb91a1"
      },
      "execution_count": 13,
      "outputs": [
        {
          "output_type": "display_data",
          "data": {
            "text/html": [
              "<html>\n",
              "<head><meta charset=\"utf-8\" /></head>\n",
              "<body>\n",
              "    <div>            <script src=\"https://cdnjs.cloudflare.com/ajax/libs/mathjax/2.7.5/MathJax.js?config=TeX-AMS-MML_SVG\"></script><script type=\"text/javascript\">if (window.MathJax && window.MathJax.Hub && window.MathJax.Hub.Config) {window.MathJax.Hub.Config({SVG: {font: \"STIX-Web\"}});}</script>                <script type=\"text/javascript\">window.PlotlyConfig = {MathJaxConfig: 'local'};</script>\n",
              "        <script charset=\"utf-8\" src=\"https://cdn.plot.ly/plotly-2.35.2.min.js\"></script>                <div id=\"effb99b5-c637-4c57-8265-67922adb0b28\" class=\"plotly-graph-div\" style=\"height:525px; width:100%;\"></div>            <script type=\"text/javascript\">                                    window.PLOTLYENV=window.PLOTLYENV || {};                                    if (document.getElementById(\"effb99b5-c637-4c57-8265-67922adb0b28\")) {                    Plotly.newPlot(                        \"effb99b5-c637-4c57-8265-67922adb0b28\",                        [{\"alignmentgroup\":\"True\",\"hovertemplate\":\"Category=%{x}\\u003cbr\\u003eValue=%{y}\\u003cextra\\u003e\\u003c\\u002fextra\\u003e\",\"legendgroup\":\"\",\"marker\":{\"color\":\"#636efa\",\"pattern\":{\"shape\":\"\"}},\"name\":\"\",\"offsetgroup\":\"\",\"orientation\":\"v\",\"showlegend\":false,\"textposition\":\"auto\",\"x\":[\"A\",\"B\",\"C\",\"D\"],\"xaxis\":\"x\",\"y\":[10,25,15,30],\"yaxis\":\"y\",\"type\":\"bar\"}],                        {\"template\":{\"data\":{\"histogram2dcontour\":[{\"type\":\"histogram2dcontour\",\"colorbar\":{\"outlinewidth\":0,\"ticks\":\"\"},\"colorscale\":[[0.0,\"#0d0887\"],[0.1111111111111111,\"#46039f\"],[0.2222222222222222,\"#7201a8\"],[0.3333333333333333,\"#9c179e\"],[0.4444444444444444,\"#bd3786\"],[0.5555555555555556,\"#d8576b\"],[0.6666666666666666,\"#ed7953\"],[0.7777777777777778,\"#fb9f3a\"],[0.8888888888888888,\"#fdca26\"],[1.0,\"#f0f921\"]]}],\"choropleth\":[{\"type\":\"choropleth\",\"colorbar\":{\"outlinewidth\":0,\"ticks\":\"\"}}],\"histogram2d\":[{\"type\":\"histogram2d\",\"colorbar\":{\"outlinewidth\":0,\"ticks\":\"\"},\"colorscale\":[[0.0,\"#0d0887\"],[0.1111111111111111,\"#46039f\"],[0.2222222222222222,\"#7201a8\"],[0.3333333333333333,\"#9c179e\"],[0.4444444444444444,\"#bd3786\"],[0.5555555555555556,\"#d8576b\"],[0.6666666666666666,\"#ed7953\"],[0.7777777777777778,\"#fb9f3a\"],[0.8888888888888888,\"#fdca26\"],[1.0,\"#f0f921\"]]}],\"heatmap\":[{\"type\":\"heatmap\",\"colorbar\":{\"outlinewidth\":0,\"ticks\":\"\"},\"colorscale\":[[0.0,\"#0d0887\"],[0.1111111111111111,\"#46039f\"],[0.2222222222222222,\"#7201a8\"],[0.3333333333333333,\"#9c179e\"],[0.4444444444444444,\"#bd3786\"],[0.5555555555555556,\"#d8576b\"],[0.6666666666666666,\"#ed7953\"],[0.7777777777777778,\"#fb9f3a\"],[0.8888888888888888,\"#fdca26\"],[1.0,\"#f0f921\"]]}],\"heatmapgl\":[{\"type\":\"heatmapgl\",\"colorbar\":{\"outlinewidth\":0,\"ticks\":\"\"},\"colorscale\":[[0.0,\"#0d0887\"],[0.1111111111111111,\"#46039f\"],[0.2222222222222222,\"#7201a8\"],[0.3333333333333333,\"#9c179e\"],[0.4444444444444444,\"#bd3786\"],[0.5555555555555556,\"#d8576b\"],[0.6666666666666666,\"#ed7953\"],[0.7777777777777778,\"#fb9f3a\"],[0.8888888888888888,\"#fdca26\"],[1.0,\"#f0f921\"]]}],\"contourcarpet\":[{\"type\":\"contourcarpet\",\"colorbar\":{\"outlinewidth\":0,\"ticks\":\"\"}}],\"contour\":[{\"type\":\"contour\",\"colorbar\":{\"outlinewidth\":0,\"ticks\":\"\"},\"colorscale\":[[0.0,\"#0d0887\"],[0.1111111111111111,\"#46039f\"],[0.2222222222222222,\"#7201a8\"],[0.3333333333333333,\"#9c179e\"],[0.4444444444444444,\"#bd3786\"],[0.5555555555555556,\"#d8576b\"],[0.6666666666666666,\"#ed7953\"],[0.7777777777777778,\"#fb9f3a\"],[0.8888888888888888,\"#fdca26\"],[1.0,\"#f0f921\"]]}],\"surface\":[{\"type\":\"surface\",\"colorbar\":{\"outlinewidth\":0,\"ticks\":\"\"},\"colorscale\":[[0.0,\"#0d0887\"],[0.1111111111111111,\"#46039f\"],[0.2222222222222222,\"#7201a8\"],[0.3333333333333333,\"#9c179e\"],[0.4444444444444444,\"#bd3786\"],[0.5555555555555556,\"#d8576b\"],[0.6666666666666666,\"#ed7953\"],[0.7777777777777778,\"#fb9f3a\"],[0.8888888888888888,\"#fdca26\"],[1.0,\"#f0f921\"]]}],\"mesh3d\":[{\"type\":\"mesh3d\",\"colorbar\":{\"outlinewidth\":0,\"ticks\":\"\"}}],\"scatter\":[{\"fillpattern\":{\"fillmode\":\"overlay\",\"size\":10,\"solidity\":0.2},\"type\":\"scatter\"}],\"parcoords\":[{\"type\":\"parcoords\",\"line\":{\"colorbar\":{\"outlinewidth\":0,\"ticks\":\"\"}}}],\"scatterpolargl\":[{\"type\":\"scatterpolargl\",\"marker\":{\"colorbar\":{\"outlinewidth\":0,\"ticks\":\"\"}}}],\"bar\":[{\"error_x\":{\"color\":\"#2a3f5f\"},\"error_y\":{\"color\":\"#2a3f5f\"},\"marker\":{\"line\":{\"color\":\"#E5ECF6\",\"width\":0.5},\"pattern\":{\"fillmode\":\"overlay\",\"size\":10,\"solidity\":0.2}},\"type\":\"bar\"}],\"scattergeo\":[{\"type\":\"scattergeo\",\"marker\":{\"colorbar\":{\"outlinewidth\":0,\"ticks\":\"\"}}}],\"scatterpolar\":[{\"type\":\"scatterpolar\",\"marker\":{\"colorbar\":{\"outlinewidth\":0,\"ticks\":\"\"}}}],\"histogram\":[{\"marker\":{\"pattern\":{\"fillmode\":\"overlay\",\"size\":10,\"solidity\":0.2}},\"type\":\"histogram\"}],\"scattergl\":[{\"type\":\"scattergl\",\"marker\":{\"colorbar\":{\"outlinewidth\":0,\"ticks\":\"\"}}}],\"scatter3d\":[{\"type\":\"scatter3d\",\"line\":{\"colorbar\":{\"outlinewidth\":0,\"ticks\":\"\"}},\"marker\":{\"colorbar\":{\"outlinewidth\":0,\"ticks\":\"\"}}}],\"scattermapbox\":[{\"type\":\"scattermapbox\",\"marker\":{\"colorbar\":{\"outlinewidth\":0,\"ticks\":\"\"}}}],\"scatterternary\":[{\"type\":\"scatterternary\",\"marker\":{\"colorbar\":{\"outlinewidth\":0,\"ticks\":\"\"}}}],\"scattercarpet\":[{\"type\":\"scattercarpet\",\"marker\":{\"colorbar\":{\"outlinewidth\":0,\"ticks\":\"\"}}}],\"carpet\":[{\"aaxis\":{\"endlinecolor\":\"#2a3f5f\",\"gridcolor\":\"white\",\"linecolor\":\"white\",\"minorgridcolor\":\"white\",\"startlinecolor\":\"#2a3f5f\"},\"baxis\":{\"endlinecolor\":\"#2a3f5f\",\"gridcolor\":\"white\",\"linecolor\":\"white\",\"minorgridcolor\":\"white\",\"startlinecolor\":\"#2a3f5f\"},\"type\":\"carpet\"}],\"table\":[{\"cells\":{\"fill\":{\"color\":\"#EBF0F8\"},\"line\":{\"color\":\"white\"}},\"header\":{\"fill\":{\"color\":\"#C8D4E3\"},\"line\":{\"color\":\"white\"}},\"type\":\"table\"}],\"barpolar\":[{\"marker\":{\"line\":{\"color\":\"#E5ECF6\",\"width\":0.5},\"pattern\":{\"fillmode\":\"overlay\",\"size\":10,\"solidity\":0.2}},\"type\":\"barpolar\"}],\"pie\":[{\"automargin\":true,\"type\":\"pie\"}]},\"layout\":{\"autotypenumbers\":\"strict\",\"colorway\":[\"#636efa\",\"#EF553B\",\"#00cc96\",\"#ab63fa\",\"#FFA15A\",\"#19d3f3\",\"#FF6692\",\"#B6E880\",\"#FF97FF\",\"#FECB52\"],\"font\":{\"color\":\"#2a3f5f\"},\"hovermode\":\"closest\",\"hoverlabel\":{\"align\":\"left\"},\"paper_bgcolor\":\"white\",\"plot_bgcolor\":\"#E5ECF6\",\"polar\":{\"bgcolor\":\"#E5ECF6\",\"angularaxis\":{\"gridcolor\":\"white\",\"linecolor\":\"white\",\"ticks\":\"\"},\"radialaxis\":{\"gridcolor\":\"white\",\"linecolor\":\"white\",\"ticks\":\"\"}},\"ternary\":{\"bgcolor\":\"#E5ECF6\",\"aaxis\":{\"gridcolor\":\"white\",\"linecolor\":\"white\",\"ticks\":\"\"},\"baxis\":{\"gridcolor\":\"white\",\"linecolor\":\"white\",\"ticks\":\"\"},\"caxis\":{\"gridcolor\":\"white\",\"linecolor\":\"white\",\"ticks\":\"\"}},\"coloraxis\":{\"colorbar\":{\"outlinewidth\":0,\"ticks\":\"\"}},\"colorscale\":{\"sequential\":[[0.0,\"#0d0887\"],[0.1111111111111111,\"#46039f\"],[0.2222222222222222,\"#7201a8\"],[0.3333333333333333,\"#9c179e\"],[0.4444444444444444,\"#bd3786\"],[0.5555555555555556,\"#d8576b\"],[0.6666666666666666,\"#ed7953\"],[0.7777777777777778,\"#fb9f3a\"],[0.8888888888888888,\"#fdca26\"],[1.0,\"#f0f921\"]],\"sequentialminus\":[[0.0,\"#0d0887\"],[0.1111111111111111,\"#46039f\"],[0.2222222222222222,\"#7201a8\"],[0.3333333333333333,\"#9c179e\"],[0.4444444444444444,\"#bd3786\"],[0.5555555555555556,\"#d8576b\"],[0.6666666666666666,\"#ed7953\"],[0.7777777777777778,\"#fb9f3a\"],[0.8888888888888888,\"#fdca26\"],[1.0,\"#f0f921\"]],\"diverging\":[[0,\"#8e0152\"],[0.1,\"#c51b7d\"],[0.2,\"#de77ae\"],[0.3,\"#f1b6da\"],[0.4,\"#fde0ef\"],[0.5,\"#f7f7f7\"],[0.6,\"#e6f5d0\"],[0.7,\"#b8e186\"],[0.8,\"#7fbc41\"],[0.9,\"#4d9221\"],[1,\"#276419\"]]},\"xaxis\":{\"gridcolor\":\"white\",\"linecolor\":\"white\",\"ticks\":\"\",\"title\":{\"standoff\":15},\"zerolinecolor\":\"white\",\"automargin\":true,\"zerolinewidth\":2},\"yaxis\":{\"gridcolor\":\"white\",\"linecolor\":\"white\",\"ticks\":\"\",\"title\":{\"standoff\":15},\"zerolinecolor\":\"white\",\"automargin\":true,\"zerolinewidth\":2},\"scene\":{\"xaxis\":{\"backgroundcolor\":\"#E5ECF6\",\"gridcolor\":\"white\",\"linecolor\":\"white\",\"showbackground\":true,\"ticks\":\"\",\"zerolinecolor\":\"white\",\"gridwidth\":2},\"yaxis\":{\"backgroundcolor\":\"#E5ECF6\",\"gridcolor\":\"white\",\"linecolor\":\"white\",\"showbackground\":true,\"ticks\":\"\",\"zerolinecolor\":\"white\",\"gridwidth\":2},\"zaxis\":{\"backgroundcolor\":\"#E5ECF6\",\"gridcolor\":\"white\",\"linecolor\":\"white\",\"showbackground\":true,\"ticks\":\"\",\"zerolinecolor\":\"white\",\"gridwidth\":2}},\"shapedefaults\":{\"line\":{\"color\":\"#2a3f5f\"}},\"annotationdefaults\":{\"arrowcolor\":\"#2a3f5f\",\"arrowhead\":0,\"arrowwidth\":1},\"geo\":{\"bgcolor\":\"white\",\"landcolor\":\"#E5ECF6\",\"subunitcolor\":\"white\",\"showland\":true,\"showlakes\":true,\"lakecolor\":\"white\"},\"title\":{\"x\":0.05},\"mapbox\":{\"style\":\"light\"}}},\"xaxis\":{\"anchor\":\"y\",\"domain\":[0.0,1.0],\"title\":{\"text\":\"Category\"}},\"yaxis\":{\"anchor\":\"x\",\"domain\":[0.0,1.0],\"title\":{\"text\":\"Value\"}},\"legend\":{\"tracegroupgap\":0},\"title\":{\"text\":\"Sample Bar Plot with Plotly Express\"},\"barmode\":\"relative\"},                        {\"responsive\": true}                    ).then(function(){\n",
              "                            \n",
              "var gd = document.getElementById('effb99b5-c637-4c57-8265-67922adb0b28');\n",
              "var x = new MutationObserver(function (mutations, observer) {{\n",
              "        var display = window.getComputedStyle(gd).display;\n",
              "        if (!display || display === 'none') {{\n",
              "            console.log([gd, 'removed!']);\n",
              "            Plotly.purge(gd);\n",
              "            observer.disconnect();\n",
              "        }}\n",
              "}});\n",
              "\n",
              "// Listen for the removal of the full notebook cells\n",
              "var notebookContainer = gd.closest('#notebook-container');\n",
              "if (notebookContainer) {{\n",
              "    x.observe(notebookContainer, {childList: true});\n",
              "}}\n",
              "\n",
              "// Listen for the clearing of the current output cell\n",
              "var outputEl = gd.closest('.output');\n",
              "if (outputEl) {{\n",
              "    x.observe(outputEl, {childList: true});\n",
              "}}\n",
              "\n",
              "                        })                };                            </script>        </div>\n",
              "</body>\n",
              "</html>"
            ]
          },
          "metadata": {}
        }
      ]
    },
    {
      "cell_type": "markdown",
      "source": [
        "6.Create a DataFrame and add a new column based on an existing column."
      ],
      "metadata": {
        "id": "j6-7c2mU9SKF"
      }
    },
    {
      "cell_type": "code",
      "source": [
        "    data = {'Name': ['Alia', 'dloby', 'dulie', 'David'],\n",
        "            'Score': [85, 92, 78, 95]}\n",
        "    df = pd.DataFrame(data)\n",
        "    print(\"Original DataFrame:\")\n",
        "    print(df)"
      ],
      "metadata": {
        "colab": {
          "base_uri": "https://localhost:8080/"
        },
        "id": "CgL54tpM9Vk1",
        "outputId": "bd532df1-fe5a-4434-db40-f45f0b80b0e4"
      },
      "execution_count": 15,
      "outputs": [
        {
          "output_type": "stream",
          "name": "stdout",
          "text": [
            "Original DataFrame:\n",
            "    Name  Score\n",
            "0   Alia     85\n",
            "1  dloby     92\n",
            "2  dulie     78\n",
            "3  David     95\n"
          ]
        }
      ]
    },
    {
      "cell_type": "markdown",
      "source": [
        "7.Write a program to perform element-wise multiplication of two NumPy arrays."
      ],
      "metadata": {
        "id": "vX2WmThQ9jzF"
      }
    },
    {
      "cell_type": "code",
      "source": [
        "import numpy as np\n",
        "\n",
        "# Define two NumPy arrays\n",
        "array1 = np.array([1, 2, 3, 4, 5])\n",
        "array2 = np.array([6, 7, 8, 9, 10])\n",
        "\n",
        "# Method 1: Using the * operator for element-wise multiplication\n",
        "result_operator = array1 * array2\n",
        "print(f\"Result using * operator: {result_operator}\")\n",
        "\n",
        "# Method 2: Using the numpy.multiply() function for element-wise multiplication\n",
        "result_function = np.multiply(array1, array2)\n",
        "print(f\"Result using np.multiply(): {result_function}\")"
      ],
      "metadata": {
        "colab": {
          "base_uri": "https://localhost:8080/"
        },
        "id": "T4RVrTkH9od9",
        "outputId": "c75c681f-be63-4d66-8e35-0af8ca53a2c4"
      },
      "execution_count": 16,
      "outputs": [
        {
          "output_type": "stream",
          "name": "stdout",
          "text": [
            "Result using * operator: [ 6 14 24 36 50]\n",
            "Result using np.multiply(): [ 6 14 24 36 50]\n"
          ]
        }
      ]
    },
    {
      "cell_type": "markdown",
      "source": [
        "8.Create a line plot with multiple lines using Matplotlib."
      ],
      "metadata": {
        "id": "zbNj7DJP9vm-"
      }
    },
    {
      "cell_type": "code",
      "source": [
        "    x = [1, 2, 3, 4, 5]\n",
        "    y1 = [10, 12, 15, 13, 16]\n",
        "    y2 = [8, 11, 14, 10, 13]\n",
        "    y3 = [15, 9, 11, 14, 10]"
      ],
      "metadata": {
        "id": "3sGWAVH89zEF"
      },
      "execution_count": 18,
      "outputs": []
    },
    {
      "cell_type": "markdown",
      "source": [
        "9.Generate a Pandas DataFrame and filter rows where a column value is greater than a threshold."
      ],
      "metadata": {
        "id": "QLJCw6ov93jd"
      }
    },
    {
      "cell_type": "code",
      "source": [
        "    data = {'Name': ['Ale', 'dolby', 'bie', 'David', 'tlve'],\n",
        "            'Age': [25, 30, 22, 35, 28],\n",
        "            'Score': [85, 92, 78, 95, 88]}\n",
        "    df = pd.DataFrame(data)"
      ],
      "metadata": {
        "id": "S_Fg9x7m97NV"
      },
      "execution_count": 20,
      "outputs": []
    },
    {
      "cell_type": "markdown",
      "source": [
        "10.Create a histogram using Seaborn to visualize a distribution."
      ],
      "metadata": {
        "id": "GtFKM7ID-FkV"
      }
    },
    {
      "cell_type": "code",
      "source": [
        "sns.histplot(data=df, x='Value')\n",
        "plt.title('Distribution of Values')\n",
        "plt.xlabel('Value Range')\n",
        "plt.ylabel('Frequency')\n",
        "plt.show()\n"
      ],
      "metadata": {
        "colab": {
          "base_uri": "https://localhost:8080/",
          "height": 472
        },
        "id": "8McBPMQ0-Ycd",
        "outputId": "2f90a818-72e8-4bad-80e3-fb11dba1c114"
      },
      "execution_count": 24,
      "outputs": [
        {
          "output_type": "display_data",
          "data": {
            "text/plain": [
              "<Figure size 640x480 with 1 Axes>"
            ],
            "image/png": "[encoded data removed]"
          },
          "metadata": {}
        }
      ]
    },
    {
      "cell_type": "markdown",
      "source": [
        "11.Perform matrix multiplication using NumPy."
      ],
      "metadata": {
        "id": "V0brZ0QA-awF"
      }
    },
    {
      "cell_type": "code",
      "source": [
        "    import numpy as np\n",
        "\n",
        "    matrix_a = np.array([[1, 2], [3, 4]])\n",
        "    matrix_b = np.array([[5, 6], [7, 8]])\n",
        "\n",
        "    result_dot = np.dot(matrix_a, matrix_b)\n",
        "    print(\"Result using np.dot():\\n\", result_dot)"
      ],
      "metadata": {
        "colab": {
          "base_uri": "https://localhost:8080/"
        },
        "id": "Kgi-wIq5-eD1",
        "outputId": "41fbcc8f-36b3-43f4-f26f-effb106608ef"
      },
      "execution_count": 25,
      "outputs": [
        {
          "output_type": "stream",
          "name": "stdout",
          "text": [
            "Result using np.dot():\n",
            " [[19 22]\n",
            " [43 50]]\n"
          ]
        }
      ]
    },
    {
      "cell_type": "markdown",
      "source": [
        "12.Use Pandas to load a CSV file and display its first 5 row."
      ],
      "metadata": {
        "id": "GgAxCz6o-iUV"
      }
    },
    {
      "cell_type": "code",
      "source": [
        "import pandas as pd\n",
        "\n",
        "# Load the CSV file into a DataFrame\n",
        "df = pd.read_csv('data.csv')\n",
        "\n",
        "# Display the first 5 rows of the DataFrame\n",
        "print(df.head())\n"
      ],
      "metadata": {
        "colab": {
          "base_uri": "https://localhost:8080/",
          "height": 356
        },
        "collapsed": true,
        "id": "SJZcpgsJ-ugd",
        "outputId": "54932844-768e-436d-b9b6-87a6f376b846"
      },
      "execution_count": 28,
      "outputs": [
        {
          "output_type": "error",
          "ename": "FileNotFoundError",
          "evalue": "[Errno 2] No such file or directory: 'data.csv'",
          "traceback": [
            "\u001b[0;31m---------------------------------------------------------------------------\u001b[0m",
            "\u001b[0;31mFileNotFoundError\u001b[0m                         Traceback (most recent call last)",
            "\u001b[0;32m/tmp/ipython-input-2913043737.py\u001b[0m in \u001b[0;36m<cell line: 0>\u001b[0;34m()\u001b[0m\n\u001b[1;32m      2\u001b[0m \u001b[0;34m\u001b[0m\u001b[0m\n\u001b[1;32m      3\u001b[0m \u001b[0;31m# Load the CSV file into a DataFrame\u001b[0m\u001b[0;34m\u001b[0m\u001b[0;34m\u001b[0m\u001b[0m\n\u001b[0;32m----> 4\u001b[0;31m \u001b[0mdf\u001b[0m \u001b[0;34m=\u001b[0m \u001b[0mpd\u001b[0m\u001b[0;34m.\u001b[0m\u001b[0mread_csv\u001b[0m\u001b[0;34m(\u001b[0m\u001b[0;34m'data.csv'\u001b[0m\u001b[0;34m)\u001b[0m\u001b[0;34m\u001b[0m\u001b[0;34m\u001b[0m\u001b[0m\n\u001b[0m\u001b[1;32m      5\u001b[0m \u001b[0;34m\u001b[0m\u001b[0m\n\u001b[1;32m      6\u001b[0m \u001b[0;31m# Display the first 5 rows of the DataFrame\u001b[0m\u001b[0;34m\u001b[0m\u001b[0;34m\u001b[0m\u001b[0m\n",
            "\u001b[0;32m/usr/local/lib/python3.11/dist-packages/pandas/io/parsers/readers.py\u001b[0m in \u001b[0;36mread_csv\u001b[0;34m(filepath_or_buffer, sep, delimiter, header, names, index_col, usecols, dtype, engine, converters, true_values, false_values, skipinitialspace, skiprows, skipfooter, nrows, na_values, keep_default_na, na_filter, verbose, skip_blank_lines, parse_dates, infer_datetime_format, keep_date_col, date_parser, date_format, dayfirst, cache_dates, iterator, chunksize, compression, thousands, decimal, lineterminator, quotechar, quoting, doublequote, escapechar, comment, encoding, encoding_errors, dialect, on_bad_lines, delim_whitespace, low_memory, memory_map, float_precision, storage_options, dtype_backend)\u001b[0m\n\u001b[1;32m   1024\u001b[0m     \u001b[0mkwds\u001b[0m\u001b[0;34m.\u001b[0m\u001b[0mupdate\u001b[0m\u001b[0;34m(\u001b[0m\u001b[0mkwds_defaults\u001b[0m\u001b[0;34m)\u001b[0m\u001b[0;34m\u001b[0m\u001b[0;34m\u001b[0m\u001b[0m\n\u001b[1;32m   1025\u001b[0m \u001b[0;34m\u001b[0m\u001b[0m\n\u001b[0;32m-> 1026\u001b[0;31m     \u001b[0;32mreturn\u001b[0m \u001b[0m_read\u001b[0m\u001b[0;34m(\u001b[0m\u001b[0mfilepath_or_buffer\u001b[0m\u001b[0;34m,\u001b[0m \u001b[0mkwds\u001b[0m\u001b[0;34m)\u001b[0m\u001b[0;34m\u001b[0m\u001b[0;34m\u001b[0m\u001b[0m\n\u001b[0m\u001b[1;32m   1027\u001b[0m \u001b[0;34m\u001b[0m\u001b[0m\n\u001b[1;32m   1028\u001b[0m \u001b[0;34m\u001b[0m\u001b[0m\n",
            "\u001b[0;32m/usr/local/lib/python3.11/dist-packages/pandas/io/parsers/readers.py\u001b[0m in \u001b[0;36m_read\u001b[0;34m(filepath_or_buffer, kwds)\u001b[0m\n\u001b[1;32m    618\u001b[0m \u001b[0;34m\u001b[0m\u001b[0m\n\u001b[1;32m    619\u001b[0m     \u001b[0;31m# Create the parser.\u001b[0m\u001b[0;34m\u001b[0m\u001b[0;34m\u001b[0m\u001b[0m\n\u001b[0;32m--> 620\u001b[0;31m     \u001b[0mparser\u001b[0m \u001b[0;34m=\u001b[0m \u001b[0mTextFileReader\u001b[0m\u001b[0;34m(\u001b[0m\u001b[0mfilepath_or_buffer\u001b[0m\u001b[0;34m,\u001b[0m \u001b[0;34m**\u001b[0m\u001b[0mkwds\u001b[0m\u001b[0;34m)\u001b[0m\u001b[0;34m\u001b[0m\u001b[0;34m\u001b[0m\u001b[0m\n\u001b[0m\u001b[1;32m    621\u001b[0m \u001b[0;34m\u001b[0m\u001b[0m\n\u001b[1;32m    622\u001b[0m     \u001b[0;32mif\u001b[0m \u001b[0mchunksize\u001b[0m \u001b[0;32mor\u001b[0m \u001b[0miterator\u001b[0m\u001b[0;34m:\u001b[0m\u001b[0;34m\u001b[0m\u001b[0;34m\u001b[0m\u001b[0m\n",
            "\u001b[0;32m/usr/local/lib/python3.11/dist-packages/pandas/io/parsers/readers.py\u001b[0m in \u001b[0;36m__init__\u001b[0;34m(self, f, engine, **kwds)\u001b[0m\n\u001b[1;32m   1618\u001b[0m \u001b[0;34m\u001b[0m\u001b[0m\n\u001b[1;32m   1619\u001b[0m         \u001b[0mself\u001b[0m\u001b[0;34m.\u001b[0m\u001b[0mhandles\u001b[0m\u001b[0;34m:\u001b[0m \u001b[0mIOHandles\u001b[0m \u001b[0;34m|\u001b[0m \u001b[0;32mNone\u001b[0m \u001b[0;34m=\u001b[0m \u001b[0;32mNone\u001b[0m\u001b[0;34m\u001b[0m\u001b[0;34m\u001b[0m\u001b[0m\n\u001b[0;32m-> 1620\u001b[0;31m         \u001b[0mself\u001b[0m\u001b[0;34m.\u001b[0m\u001b[0m_engine\u001b[0m \u001b[0;34m=\u001b[0m \u001b[0mself\u001b[0m\u001b[0;34m.\u001b[0m\u001b[0m_make_engine\u001b[0m\u001b[0;34m(\u001b[0m\u001b[0mf\u001b[0m\u001b[0;34m,\u001b[0m \u001b[0mself\u001b[0m\u001b[0;34m.\u001b[0m\u001b[0mengine\u001b[0m\u001b[0;34m)\u001b[0m\u001b[0;34m\u001b[0m\u001b[0;34m\u001b[0m\u001b[0m\n\u001b[0m\u001b[1;32m   1621\u001b[0m \u001b[0;34m\u001b[0m\u001b[0m\n\u001b[1;32m   1622\u001b[0m     \u001b[0;32mdef\u001b[0m \u001b[0mclose\u001b[0m\u001b[0;34m(\u001b[0m\u001b[0mself\u001b[0m\u001b[0;34m)\u001b[0m \u001b[0;34m->\u001b[0m \u001b[0;32mNone\u001b[0m\u001b[0;34m:\u001b[0m\u001b[0;34m\u001b[0m\u001b[0;34m\u001b[0m\u001b[0m\n",
            "\u001b[0;32m/usr/local/lib/python3.11/dist-packages/pandas/io/parsers/readers.py\u001b[0m in \u001b[0;36m_make_engine\u001b[0;34m(self, f, engine)\u001b[0m\n\u001b[1;32m   1878\u001b[0m                 \u001b[0;32mif\u001b[0m \u001b[0;34m\"b\"\u001b[0m \u001b[0;32mnot\u001b[0m \u001b[0;32min\u001b[0m \u001b[0mmode\u001b[0m\u001b[0;34m:\u001b[0m\u001b[0;34m\u001b[0m\u001b[0;34m\u001b[0m\u001b[0m\n\u001b[1;32m   1879\u001b[0m                     \u001b[0mmode\u001b[0m \u001b[0;34m+=\u001b[0m \u001b[0;34m\"b\"\u001b[0m\u001b[0;34m\u001b[0m\u001b[0;34m\u001b[0m\u001b[0m\n\u001b[0;32m-> 1880\u001b[0;31m             self.handles = get_handle(\n\u001b[0m\u001b[1;32m   1881\u001b[0m                 \u001b[0mf\u001b[0m\u001b[0;34m,\u001b[0m\u001b[0;34m\u001b[0m\u001b[0;34m\u001b[0m\u001b[0m\n\u001b[1;32m   1882\u001b[0m                 \u001b[0mmode\u001b[0m\u001b[0;34m,\u001b[0m\u001b[0;34m\u001b[0m\u001b[0;34m\u001b[0m\u001b[0m\n",
            "\u001b[0;32m/usr/local/lib/python3.11/dist-packages/pandas/io/common.py\u001b[0m in \u001b[0;36mget_handle\u001b[0;34m(path_or_buf, mode, encoding, compression, memory_map, is_text, errors, storage_options)\u001b[0m\n\u001b[1;32m    871\u001b[0m         \u001b[0;32mif\u001b[0m \u001b[0mioargs\u001b[0m\u001b[0;34m.\u001b[0m\u001b[0mencoding\u001b[0m \u001b[0;32mand\u001b[0m \u001b[0;34m\"b\"\u001b[0m \u001b[0;32mnot\u001b[0m \u001b[0;32min\u001b[0m \u001b[0mioargs\u001b[0m\u001b[0;34m.\u001b[0m\u001b[0mmode\u001b[0m\u001b[0;34m:\u001b[0m\u001b[0;34m\u001b[0m\u001b[0;34m\u001b[0m\u001b[0m\n\u001b[1;32m    872\u001b[0m             \u001b[0;31m# Encoding\u001b[0m\u001b[0;34m\u001b[0m\u001b[0;34m\u001b[0m\u001b[0m\n\u001b[0;32m--> 873\u001b[0;31m             handle = open(\n\u001b[0m\u001b[1;32m    874\u001b[0m                 \u001b[0mhandle\u001b[0m\u001b[0;34m,\u001b[0m\u001b[0;34m\u001b[0m\u001b[0;34m\u001b[0m\u001b[0m\n\u001b[1;32m    875\u001b[0m                 \u001b[0mioargs\u001b[0m\u001b[0;34m.\u001b[0m\u001b[0mmode\u001b[0m\u001b[0;34m,\u001b[0m\u001b[0;34m\u001b[0m\u001b[0;34m\u001b[0m\u001b[0m\n",
            "\u001b[0;31mFileNotFoundError\u001b[0m: [Errno 2] No such file or directory: 'data.csv'"
          ]
        }
      ]
    },
    {
      "cell_type": "markdown",
      "source": [
        "13.Create a 3D scatter plot using Plotly."
      ],
      "metadata": {
        "id": "koOvGhZ3-5QF"
      }
    },
    {
      "cell_type": "code",
      "source": [
        "    import pandas as pd\n",
        "    import numpy as np\n",
        "\n",
        "    # Sample data\n",
        "    np.random.seed(42)\n",
        "    data = {\n",
        "        'x': np.random.rand(50),\n",
        "        'y': np.random.rand(50),\n",
        "        'z': np.random.rand(50),\n",
        "        'category': np.random.choice(['A', 'B', 'C'], 50)\n",
        "    }\n",
        "    df = pd.DataFrame(data)"
      ],
      "metadata": {
        "id": "KdEPnB3Q-_Dt"
      },
      "execution_count": 29,
      "outputs": []
    }
  ]
}